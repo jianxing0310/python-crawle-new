{
 "cells": [
  {
   "cell_type": "markdown",
   "metadata": {},
   "source": [
    "# 標題,類別,內文,關鍵詞,新聞連結網址,日期(格式yyyyMMdd)"
   ]
  },
  {
   "cell_type": "code",
   "execution_count": 82,
   "metadata": {
    "collapsed": false
   },
   "outputs": [],
   "source": [
    "import re\n",
    "import time\n",
    "import requests\n",
    "from bs4 import BeautifulSoup as bs\n",
    "import json\n",
    "import ast  #轉換成json需要套件\n",
    "import string\n",
    "import datetime as dt\n",
    "\n",
    "url  = 'http://news.ltn.com.tw/news/politics/breakingnews/1638642'\n",
    "\n",
    "res = requests.get(url)\n",
    "res.encoding = \"UTF-8\"\n",
    "soup = bs(res.text)\n",
    "essay = soup.select('#newstext p , h4') #內文\n",
    "tital = soup.select('h1 ')[0].text # 標題\n",
    "date =  soup.select('#newstext span ')[0].text   #日期(要轉格式)\n",
    "category = soup.select('.guide  a ')[1].text    #類別\n",
    "keyword= soup.select('.con_keyword')[0].text #關鍵字(須累加)\n",
    "page=\"\"                          #給一個字串,存放內文用           \n",
    "for div3 in essay[0:(len(essay)-2)]:\n",
    "    page += div3.text#加入內文\n",
    "\n",
    "aa = string.replace(page.encode('utf-8'), '、', '_')\n",
    "bb = string.replace(aa, '，', '_')\n",
    "cc = string.replace(bb, '！', '_')\n",
    "dd = string.replace(cc, '。', '_')\n",
    "ee = string.replace(dd, '；', '_')\n",
    "#print ee\n",
    "    \n",
    "date_ture = string.replace(date, '-', '')[0:8]\n",
    "    \n",
    "data = {\n",
    "    'tital' :tital,\n",
    "    'category' : category,\n",
    "    'essay' : ee,\n",
    "    'keyword':keyword,\n",
    "    'url':url,\n",
    "    'date':date_ture\n",
    "}\n",
    "\n",
    "\n",
    "#json_str = json.dumps(data)\n",
    "\n",
    "#print  repr (data)\n",
    "#print json_str \n",
    "\n",
    "\n",
    "#s =  json.loads(json_str)\n",
    "\n",
    "with open(\"new\", \"w\") as f:\n",
    "    json.dump(data, f, indent=4, ensure_ascii=True)\n"
   ]
  },
  {
   "cell_type": "code",
   "execution_count": 81,
   "metadata": {
    "collapsed": false,
    "scrolled": true
   },
   "outputs": [
    {
     "name": "stdout",
     "output_type": "stream",
     "text": [
      "<type 'dict'>\n",
      "〔即時新聞／綜合報導〕衛生福利部每年都會委託醫策會_對全台各醫院進行評鑑_引來廣大醫護人員不滿_民進黨立委段宜康對此表示_醫院評鑑如同高裝檢_而「高裝檢哪有不造假的？」段宜康在臉書上轉貼醫師洪浩雲的PO文指出_「衛福部大概沒有人當過兵」_所有當過兵的民眾心裡都明白「高裝檢哪有不造假的？」_而醫院的評鑑制度就如同軍中的高裝檢_衛福部每年委託醫策會到醫院打分數_「先通知要準備哪些資料_看哪些設備」_段宜康批評_若是米其林評鑑也使用如同高裝檢般「官樣文章」_「一定成為笑柄」_衛福部對於我國的醫院評鑑_「不學舉世信服的米其林_去學了自欺欺人的高裝檢」_醫師洪浩雲亦認為_政府官員如果覺得醫院評鑑相當重要_應重視現實層面的問題_段宜康臉書全文\n"
     ]
    }
   ],
   "source": [
    "import json\n",
    "\n",
    "with open('new', 'r+') as f:\n",
    "    data = json.load(f)\n",
    "    f.seek(0)        # <--- should reset file position to the beginning.\n",
    "    json.dump(data, f, indent=4 )\n",
    "    print type(data)\n",
    "    print data['essay']"
   ]
  },
  {
   "cell_type": "code",
   "execution_count": 63,
   "metadata": {
    "collapsed": false
   },
   "outputs": [
    {
     "name": "stdout",
     "output_type": "stream",
     "text": [
      "{u'category': u'\\u653f\\u6cbb',\n",
      " u'date': u'20160320',\n",
      " u'essay': u'\\u3014\\u5373\\u6642\\u65b0\\u805e\\uff0f\\u7d9c\\u5408\\u5831\\u5c0e\\u3015\\u885b\\u751f\\u798f\\u5229\\u90e8\\u6bcf\\u5e74\\u90fd\\u6703\\u59d4\\u8a17\\u91ab\\u7b56\\u6703_\\u5c0d\\u5168\\u53f0\\u5404\\u91ab\\u9662\\u9032\\u884c\\u8a55\\u9451_\\u5f15\\u4f86\\u5ee3\\u5927\\u91ab\\u8b77\\u4eba\\u54e1\\u4e0d\\u6eff_\\u6c11\\u9032\\u9ee8\\u7acb\\u59d4\\u6bb5\\u5b9c\\u5eb7\\u5c0d\\u6b64\\u8868\\u793a_\\u91ab\\u9662\\u8a55\\u9451\\u5982\\u540c\\u9ad8\\u88dd\\u6aa2_\\u800c\\u300c\\u9ad8\\u88dd\\u6aa2\\u54ea\\u6709\\u4e0d\\u9020\\u5047\\u7684\\uff1f\\u300d\\u6bb5\\u5b9c\\u5eb7\\u5728\\u81c9\\u66f8\\u4e0a\\u8f49\\u8cbc\\u91ab\\u5e2b\\u6d2a\\u6d69\\u96f2\\u7684PO\\u6587\\u6307\\u51fa_\\u300c\\u885b\\u798f\\u90e8\\u5927\\u6982\\u6c92\\u6709\\u4eba\\u7576\\u904e\\u5175\\u300d_\\u6240\\u6709\\u7576\\u904e\\u5175\\u7684\\u6c11\\u773e\\u5fc3\\u88e1\\u90fd\\u660e\\u767d\\u300c\\u9ad8\\u88dd\\u6aa2\\u54ea\\u6709\\u4e0d\\u9020\\u5047\\u7684\\uff1f\\u300d_\\u800c\\u91ab\\u9662\\u7684\\u8a55\\u9451\\u5236\\u5ea6\\u5c31\\u5982\\u540c\\u8ecd\\u4e2d\\u7684\\u9ad8\\u88dd\\u6aa2_\\u885b\\u798f\\u90e8\\u6bcf\\u5e74\\u59d4\\u8a17\\u91ab\\u7b56\\u6703\\u5230\\u91ab\\u9662\\u6253\\u5206\\u6578_\\u300c\\u5148\\u901a\\u77e5\\u8981\\u6e96\\u5099\\u54ea\\u4e9b\\u8cc7\\u6599_\\u770b\\u54ea\\u4e9b\\u8a2d\\u5099\\u300d_\\u6bb5\\u5b9c\\u5eb7\\u6279\\u8a55_\\u82e5\\u662f\\u7c73\\u5176\\u6797\\u8a55\\u9451\\u4e5f\\u4f7f\\u7528\\u5982\\u540c\\u9ad8\\u88dd\\u6aa2\\u822c\\u300c\\u5b98\\u6a23\\u6587\\u7ae0\\u300d_\\u300c\\u4e00\\u5b9a\\u6210\\u70ba\\u7b11\\u67c4\\u300d_\\u885b\\u798f\\u90e8\\u5c0d\\u65bc\\u6211\\u570b\\u7684\\u91ab\\u9662\\u8a55\\u9451_\\u300c\\u4e0d\\u5b78\\u8209\\u4e16\\u4fe1\\u670d\\u7684\\u7c73\\u5176\\u6797_\\u53bb\\u5b78\\u4e86\\u81ea\\u6b3a\\u6b3a\\u4eba\\u7684\\u9ad8\\u88dd\\u6aa2\\u300d_\\u91ab\\u5e2b\\u6d2a\\u6d69\\u96f2\\u4ea6\\u8a8d\\u70ba_\\u653f\\u5e9c\\u5b98\\u54e1\\u5982\\u679c\\u89ba\\u5f97\\u91ab\\u9662\\u8a55\\u9451\\u76f8\\u7576\\u91cd\\u8981_\\u61c9\\u91cd\\u8996\\u73fe\\u5be6\\u5c64\\u9762\\u7684\\u554f\\u984c_\\u6bb5\\u5b9c\\u5eb7\\u81c9\\u66f8\\u5168\\u6587',\n",
      " u'id': 134,\n",
      " u'keyword': u'\\u76f8\\u95dc\\u95dc\\u9375\\u5b57\\uff1a\\n\\u6bb5\\u5b9c\\u5eb7\\n\\u6d2a\\u6d69\\u96f2\\n\\u885b\\u798f\\u90e8\\n\\u91ab\\u7642\\u8a55\\u9451\\n\\u91ab\\u7b56\\u6703\\n',\n",
      " u'tital': u'\\u91ab\\u9662\\u8a55\\u9451\\u5982\\u540c\\u9ad8\\u88dd\\u6aa2 \\u6bb5\\u5b9c\\u5eb7\\uff1a\\u54ea\\u6709\\u4e0d\\u9020\\u5047\\u7684\\uff1f',\n",
      " u'url': u'http://news.ltn.com.tw/news/politics/breakingnews/1638642'}\n"
     ]
    }
   ],
   "source": [
    "import pprint\n",
    "\n",
    "pprint.pprint(data)\n"
   ]
  },
  {
   "cell_type": "code",
   "execution_count": 63,
   "metadata": {
    "collapsed": false
   },
   "outputs": [
    {
     "name": "stdout",
     "output_type": "stream",
     "text": [
      "<p>衞福部大概沒有人當過兵。當過兵的人都知道：高裝檢哪有不造假的？衛福部委託醫策會，每年固定時間、排定時程來檢查醫院、打分數。先通知要準備哪些資料、看哪些設備。各位後備軍人和現役阿兵哥：是不是很熟悉？醫院評鑑就是高裝檢！米...</p>\n"
     ]
    }
   ],
   "source": [
    "essay = soup.select('#newstext p , h4') \n",
    "print essay[5]"
   ]
  },
  {
   "cell_type": "code",
   "execution_count": 27,
   "metadata": {
    "collapsed": false
   },
   "outputs": [
    {
     "name": "stdout",
     "output_type": "stream",
     "text": [
      "{\"price\": 542.23, \"name\": \"ACME\", \"shares\": 100}\n"
     ]
    }
   ],
   "source": [
    "import json\n",
    "\n",
    "data = {\n",
    "    'name' : 'ACME',\n",
    "    'shares' : 100,\n",
    "    'price' : 542.23\n",
    "}\n",
    "\n",
    "json_str = json.dumps(data)\n",
    "print json_str\n",
    "\n",
    "with open(\"text.json\", \"w\") as f:\n",
    "    json.dump(data, f, indent=4)\n"
   ]
  },
  {
   "cell_type": "code",
   "execution_count": 25,
   "metadata": {
    "collapsed": false
   },
   "outputs": [
    {
     "data": {
      "text/plain": [
       "'100_NORTH_MAIN_ROAD'"
      ]
     },
     "execution_count": 25,
     "metadata": {},
     "output_type": "execute_result"
    }
   ],
   "source": [
    "import string\n",
    "\n",
    "\n",
    "s = '100,NORTH,MAIN,ROAD'\n",
    "string.replace(s, ',', '_')\n",
    "\n",
    "\n"
   ]
  },
  {
   "cell_type": "code",
   "execution_count": 33,
   "metadata": {
    "collapsed": false
   },
   "outputs": [
    {
     "name": "stdout",
     "output_type": "stream",
     "text": [
      "2016-03-20  21:19\n",
      "20160320\n"
     ]
    }
   ],
   "source": [
    "import datetime as dt\n",
    "\n",
    "\n",
    "#date =  soup.select('#newstext span ')[0].text[0:10]#日期(要轉格式)\n",
    "date =  soup.select('#newstext span ')[0].text \n",
    "print date\n",
    "\n",
    "#a = time.strptime(date, \"%Y-%m-%d \")  \n",
    "#print time.strftime(\"%Y%m%d\")  \n",
    "\n",
    "#print a[0:3]\n",
    "\n",
    "b = string.replace(date, '-', '')[0:8]\n",
    "print b\n"
   ]
  }
 ],
 "metadata": {
  "kernelspec": {
   "display_name": "Python 2",
   "language": "python",
   "name": "python2"
  },
  "language_info": {
   "codemirror_mode": {
    "name": "ipython",
    "version": 2
   },
   "file_extension": ".py",
   "mimetype": "text/x-python",
   "name": "python",
   "nbconvert_exporter": "python",
   "pygments_lexer": "ipython2",
   "version": "2.7.11"
  }
 },
 "nbformat": 4,
 "nbformat_minor": 0
}
